{
 "cells": [
  {
   "cell_type": "code",
   "execution_count": 1,
   "metadata": {},
   "outputs": [],
   "source": [
    "import pytesdaq.config.settings as settings\n",
    "import pytesdaq.instruments.control as instrument\n",
    "from pytesdaq.utils import connection_utils\n",
    "import pprint as pprint\n",
    "from IPython.core.display import HTML\n",
    "import pandas as pd"
   ]
  },
  {
   "cell_type": "markdown",
   "metadata": {},
   "source": [
    "### ADC Connections:"
   ]
  },
  {
   "cell_type": "code",
   "execution_count": 2,
   "metadata": {},
   "outputs": [
    {
     "data": {
      "text/html": [
       "<table border=\"1\" class=\"dataframe\">\n",
       "  <thead>\n",
       "    <tr style=\"text-align: right;\">\n",
       "      <th></th>\n",
       "      <th>adc_id</th>\n",
       "      <th>adc_channel</th>\n",
       "      <th>detector_channel</th>\n",
       "      <th>tes_channel</th>\n",
       "      <th>controller_id</th>\n",
       "      <th>controller_channel</th>\n",
       "    </tr>\n",
       "  </thead>\n",
       "  <tbody>\n",
       "    <tr>\n",
       "      <th>0</th>\n",
       "      <td>adc1</td>\n",
       "      <td>0</td>\n",
       "      <td>PD2</td>\n",
       "      <td>1</td>\n",
       "      <td>magnicon</td>\n",
       "      <td>1</td>\n",
       "    </tr>\n",
       "    <tr>\n",
       "      <th>1</th>\n",
       "      <td>adc1</td>\n",
       "      <td>1</td>\n",
       "      <td>G124_PAS2</td>\n",
       "      <td>2</td>\n",
       "      <td>magnicon</td>\n",
       "      <td>2</td>\n",
       "    </tr>\n",
       "    <tr>\n",
       "      <th>2</th>\n",
       "      <td>adc1</td>\n",
       "      <td>2</td>\n",
       "      <td>G124_PBS1</td>\n",
       "      <td>3</td>\n",
       "      <td>magnicon</td>\n",
       "      <td>3</td>\n",
       "    </tr>\n",
       "  </tbody>\n",
       "</table>"
      ],
      "text/plain": [
       "<IPython.core.display.HTML object>"
      ]
     },
     "metadata": {},
     "output_type": "display_data"
    },
    {
     "name": "stdout",
     "output_type": "stream",
     "text": [
      "{'device_name': 'Dev1', 'trigger_channel': 'pfi0', 'connection0': ['controller:magnicon_1', 'detector:PD2', 'tes:1'], 'connection1': ['controller:magnicon_2', 'detector:G124_PAS2', 'tes:2'], 'connection2': ['controller:magnicon_3', 'detector:G124_PBS1', 'tes:3'], 'sample_rate': 1250000, 'nb_samples': 8192, 'voltage_min': '-5', 'voltage_max': '5', 'channel_list': '0-7', 'trigger_type': 3, 'connection_table':   adc_id adc_channel detector_channel tes_channel controller_id  \\\n",
      "0   adc1           0              PD2           1      magnicon   \n",
      "1   adc1           1        G124_PAS2           2      magnicon   \n",
      "2   adc1           2        G124_PBS1           3      magnicon   \n",
      "\n",
      "  controller_channel  \n",
      "0                  1  \n",
      "1                  2  \n",
      "2                  3  }\n"
     ]
    }
   ],
   "source": [
    "config = settings.Config()\n",
    "myconnections = config.get_adc_connections()\n",
    "display(HTML(myconnections.to_html()))\n",
    "\n",
    "test = config.get_adc_setup('adc1')\n",
    "print(test)"
   ]
  },
  {
   "cell_type": "markdown",
   "metadata": {},
   "source": [
    "### Magnicon Set/Get:"
   ]
  },
  {
   "cell_type": "code",
   "execution_count": 3,
   "metadata": {},
   "outputs": [
    {
     "name": "stdout",
     "output_type": "stream",
     "text": [
      "INFO: Setting \"tes_bias\" to 20 for channel 1 (Magnicon)!\n",
      "INFO: Setting \"tes_bias\" to 20 for channel 2 (Magnicon)!\n",
      "INFO: Getting \"tes_bias for channel 2 (Magnicon)\n",
      "INFO: Getting \"tes_bias for channel 3 (Magnicon)\n",
      "1\n"
     ]
    }
   ],
   "source": [
    "myinstrument = instrument.Control(dummy_mode=True,verbose=True)\n",
    "\n",
    "# ------------\n",
    "# Set TES bias\n",
    "# ------------\n",
    "# using channel number \n",
    "myinstrument.set_tes_bias(20, tes_channel=1)\n",
    "\n",
    "# using detector name_channel\n",
    "myinstrument.set_tes_bias(20, detector_channel='G124_PAS2')\n",
    "\n",
    "# ------------\n",
    "# Get TES bias\n",
    "# ------------\n",
    "# using channel number \n",
    "bias = myinstrument.get_tes_bias(tes_channel=2)\n",
    "\n",
    "# Using detector_channel name\n",
    "bias = myinstrument.get_tes_bias(detector_channel='G124_PBS1')\n",
    "\n",
    "# dummy mode -> all values = 1\n",
    "print(bias)"
   ]
  },
  {
   "cell_type": "code",
   "execution_count": 4,
   "metadata": {},
   "outputs": [
    {
     "name": "stdout",
     "output_type": "stream",
     "text": [
      "INFO: Getting \"tes_bias for channel 1 (Magnicon)\n",
      "INFO: Getting \"squid_bias for channel 1 (Magnicon)\n",
      "INFO: Getting \"lock_point_voltage for channel 1 (Magnicon)\n",
      "INFO: Getting \"output_offset for channel 1 (Magnicon)\n",
      "INFO: Getting \"output_gain for channel 1 (Magnicon)\n",
      "INFO: Getting \"feedback_polarity for channel 1 (Magnicon)\n",
      "INFO: Getting \"feedback_mode for channel 1 (Magnicon)\n",
      "INFO: Getting \"signal_source for channel 1 (Magnicon)\n",
      "INFO: Getting signal generator #1, magnicon channel 1\n",
      "INFO: Getting \"feedback_resistance for channel 1 (Magnicon)\n",
      "INFO: Getting \"output_gain for channel 1 (Magnicon)\n",
      "INFO: Getting \"feedback_resistance for channel 1 (Magnicon)\n",
      "INFO: Getting \"output_gain for channel 1 (Magnicon)\n",
      "INFO: Getting \"preamp_gain for channel 1 (Magnicon)\n",
      "INFO: Getting \"tes_bias for channel 2 (Magnicon)\n",
      "INFO: Getting \"squid_bias for channel 2 (Magnicon)\n",
      "INFO: Getting \"lock_point_voltage for channel 2 (Magnicon)\n",
      "INFO: Getting \"output_offset for channel 2 (Magnicon)\n",
      "INFO: Getting \"output_gain for channel 2 (Magnicon)\n",
      "INFO: Getting \"feedback_polarity for channel 2 (Magnicon)\n",
      "INFO: Getting \"feedback_mode for channel 2 (Magnicon)\n",
      "INFO: Getting \"signal_source for channel 2 (Magnicon)\n",
      "INFO: Getting signal generator #1, magnicon channel 2\n",
      "INFO: Getting \"feedback_resistance for channel 2 (Magnicon)\n",
      "INFO: Getting \"output_gain for channel 2 (Magnicon)\n",
      "INFO: Getting \"feedback_resistance for channel 2 (Magnicon)\n",
      "INFO: Getting \"output_gain for channel 2 (Magnicon)\n",
      "INFO: Getting \"preamp_gain for channel 2 (Magnicon)\n",
      "INFO: Getting \"tes_bias for channel 3 (Magnicon)\n",
      "INFO: Getting \"squid_bias for channel 3 (Magnicon)\n",
      "INFO: Getting \"lock_point_voltage for channel 3 (Magnicon)\n",
      "INFO: Getting \"output_offset for channel 3 (Magnicon)\n",
      "INFO: Getting \"output_gain for channel 3 (Magnicon)\n",
      "INFO: Getting \"feedback_polarity for channel 3 (Magnicon)\n",
      "INFO: Getting \"feedback_mode for channel 3 (Magnicon)\n",
      "INFO: Getting \"signal_source for channel 3 (Magnicon)\n",
      "INFO: Getting signal generator #1, magnicon channel 3\n",
      "INFO: Getting \"feedback_resistance for channel 3 (Magnicon)\n",
      "INFO: Getting \"output_gain for channel 3 (Magnicon)\n",
      "INFO: Getting \"feedback_resistance for channel 3 (Magnicon)\n",
      "INFO: Getting \"output_gain for channel 3 (Magnicon)\n",
      "INFO: Getting \"preamp_gain for channel 3 (Magnicon)\n"
     ]
    },
    {
     "data": {
      "text/plain": [
       "{'channel_type': 'tes',\n",
       " 'channel_list': [1, 2, 3],\n",
       " 'tes_bias': [1, 1, 1],\n",
       " 'squid_bias': [1, 1, 1],\n",
       " 'lock_point_voltage': [1, 1, 1],\n",
       " 'output_offset': [1, 1, 1],\n",
       " 'output_gain': [1, 1, 1],\n",
       " 'feedback_polarity': [1, 1, 1],\n",
       " 'feedback_mode': [1, 1, 1],\n",
       " 'signal_source': [1, 1, 1],\n",
       " 'signal_gen_amplitude': [nan, nan, nan],\n",
       " 'signal_gen_frequency': [nan, nan, nan],\n",
       " 'signal_gen_shape': [nan, nan, nan],\n",
       " 'signal_gen_phase_shift': [nan, nan, nan],\n",
       " 'signal_gen_source': [nan, nan, nan],\n",
       " 'signal_gen_onoff': ['off', 'off', 'off'],\n",
       " 'feedback_resistance': [1, 1, 1],\n",
       " 'squid_turn_ratio': [2.4, 2.4, 2.4],\n",
       " 'close_loop_norm': [2.4, 2.4, 2.4],\n",
       " 'open_loop_norm': [1, 1, 1]}"
      ]
     },
     "execution_count": 4,
     "metadata": {},
     "output_type": "execute_result"
    }
   ],
   "source": [
    "myinstrument.read_all(tes_channel_list=[1,2,3])"
   ]
  },
  {
   "cell_type": "code",
   "execution_count": null,
   "metadata": {},
   "outputs": [],
   "source": []
  }
 ],
 "metadata": {
  "kernelspec": {
   "display_name": "Python 3",
   "language": "python",
   "name": "python3"
  },
  "language_info": {
   "codemirror_mode": {
    "name": "ipython",
    "version": 3
   },
   "file_extension": ".py",
   "mimetype": "text/x-python",
   "name": "python",
   "nbconvert_exporter": "python",
   "pygments_lexer": "ipython3",
   "version": "3.7.7"
  }
 },
 "nbformat": 4,
 "nbformat_minor": 4
}
