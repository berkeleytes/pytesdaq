{
 "cells": [
  {
   "cell_type": "code",
   "execution_count": 1,
   "metadata": {},
   "outputs": [],
   "source": [
    "import pytesdaq.config.settings as settings\n",
    "import pytesdaq.instruments.control as instrument\n",
    "import pytesdaq.instruments.magnicon as magnicon\n",
    "from pytesdaq.utils import connection_utils\n",
    "import pprint as pprint\n",
    "from IPython.core.display import HTML\n",
    "import pandas as pd"
   ]
  },
  {
   "cell_type": "markdown",
   "metadata": {},
   "source": [
    "### ADC Connections:"
   ]
  },
  {
   "cell_type": "code",
   "execution_count": 2,
   "metadata": {},
   "outputs": [
    {
     "data": {
      "text/html": [
       "<table border=\"1\" class=\"dataframe\">\n",
       "  <thead>\n",
       "    <tr style=\"text-align: right;\">\n",
       "      <th></th>\n",
       "      <th>adc_id</th>\n",
       "      <th>adc_channel</th>\n",
       "      <th>detector_channel</th>\n",
       "      <th>tes_channel</th>\n",
       "      <th>controller_id</th>\n",
       "      <th>controller_channel</th>\n",
       "    </tr>\n",
       "  </thead>\n",
       "  <tbody>\n",
       "    <tr>\n",
       "      <th>0</th>\n",
       "      <td>adc1</td>\n",
       "      <td>0</td>\n",
       "      <td>PD2</td>\n",
       "      <td>1</td>\n",
       "      <td>magnicon</td>\n",
       "      <td>1</td>\n",
       "    </tr>\n",
       "    <tr>\n",
       "      <th>1</th>\n",
       "      <td>adc1</td>\n",
       "      <td>1</td>\n",
       "      <td>G124_PAS2</td>\n",
       "      <td>2</td>\n",
       "      <td>magnicon</td>\n",
       "      <td>2</td>\n",
       "    </tr>\n",
       "    <tr>\n",
       "      <th>2</th>\n",
       "      <td>adc1</td>\n",
       "      <td>2</td>\n",
       "      <td>G124_PBS1</td>\n",
       "      <td>3</td>\n",
       "      <td>magnicon</td>\n",
       "      <td>3</td>\n",
       "    </tr>\n",
       "  </tbody>\n",
       "</table>"
      ],
      "text/plain": [
       "<IPython.core.display.HTML object>"
      ]
     },
     "metadata": {},
     "output_type": "display_data"
    },
    {
     "name": "stdout",
     "output_type": "stream",
     "text": [
      "{'device_name': 'Dev1', 'trigger_channel': 'pfi0', 'connection0': ['controller:magnicon_1', 'detector:PD2', 'tes:1'], 'connection1': ['controller:magnicon_2', 'detector:G124_PAS2', 'tes:2'], 'connection2': ['controller:magnicon_3', 'detector:G124_PBS1', 'tes:3'], 'sample_rate': 1250000, 'nb_samples': 8192, 'voltage_min': '-5', 'voltage_max': '5', 'channel_list': '0-7', 'trigger_type': 3, 'connection_table':   adc_id adc_channel detector_channel tes_channel controller_id  \\\n",
      "0   adc1           0              PD2           1      magnicon   \n",
      "1   adc1           1        G124_PAS2           2      magnicon   \n",
      "2   adc1           2        G124_PBS1           3      magnicon   \n",
      "\n",
      "  controller_channel  \n",
      "0                  1  \n",
      "1                  2  \n",
      "2                  3  }\n"
     ]
    }
   ],
   "source": [
    "config = settings.Config()\n",
    "myconnections = config.get_adc_connections()\n",
    "display(HTML(myconnections.to_html()))\n",
    "\n",
    "test = config.get_adc_setup('adc1')\n",
    "print(test)"
   ]
  },
  {
   "cell_type": "markdown",
   "metadata": {},
   "source": [
    "### Magnicon Set/Get:"
   ]
  },
  {
   "cell_type": "code",
   "execution_count": 3,
   "metadata": {},
   "outputs": [
    {
     "name": "stdout",
     "output_type": "stream",
     "text": [
      "Known keys:\n",
      "['github.com', '192.30.253.113', 'hpc.brc.berkeley.edu', '136.152.224.43', '136.152.224.41', '136.152.224.42', 'dtn.brc.berkeley.edu', '169.229.176.18', '98.207.52.169', 'cori.nersc.gov', '128.55.209.23', '140.82.113.3', '140.82.114.4', '140.82.112.4', '140.82.114.3', '140.82.113.4', '128.32.239.131', '140.82.112.3', '128.32.239.97', '128.32.239.62']\n",
      "\n",
      "Our key: ['ecdsa-sha2-nistp256']\n",
      "Server key: ssh-ed25519\n",
      "\n",
      "*** WARNING: Unknown host key!\n",
      "*** Caught exception: <class 'termios.error'>: (25, 'Inappropriate ioctl for device')\n"
     ]
    },
    {
     "name": "stderr",
     "output_type": "stream",
     "text": [
      "Traceback (most recent call last):\n",
      "  File \"/data/soft/anaconda3/lib/python3.7/site-packages/pytesdaq-0.1.0-py3.7.egg/pytesdaq/utils/remote.py\", line 197, in open_connection\n",
      "    self._oldtty = termios.tcgetattr(sys.stdin)\n",
      "termios.error: (25, 'Inappropriate ioctl for device')\n"
     ]
    },
    {
     "ename": "SystemExit",
     "evalue": "1",
     "output_type": "error",
     "traceback": [
      "An exception has occurred, use %tb to see the full traceback.\n",
      "\u001b[0;31mSystemExit\u001b[0m\u001b[0;31m:\u001b[0m 1\n"
     ]
    },
    {
     "name": "stderr",
     "output_type": "stream",
     "text": [
      "/data/soft/anaconda3/lib/python3.7/site-packages/IPython/core/interactiveshell.py:3334: UserWarning: To exit: use 'exit', 'quit', or Ctrl-D.\n",
      "  warn(\"To exit: use 'exit', 'quit', or Ctrl-D.\", stacklevel=1)\n"
     ]
    }
   ],
   "source": [
    "import sys\n",
    "sys.path.insert(0, '/data/pytesdaq/')\n",
    "sys.path.insert(0, '/data/pytesdaq/pytesdaq')\n",
    "sys.path.insert(0, '/data/pytesdaq/pytesdaq/instruments')\n",
    "sys.path.insert(0, '/data/pytesdaq/pytesdaq/instruments/magnicon')\n",
    "sys.path.insert(0, '/data/pytesdaq/pytesdaq/config')\n",
    "sys.path.insert(0, '/data/pytesdaq/pytesdaq/utils')\n",
    "import magnicon, remote\n",
    "\n",
    "mag_conn_info = {'hostname': '128.32.239.62',\n",
    "    'username': 'mckinseyleidenfridge',\n",
    "    'port': 22,\n",
    "    'rsa_key': '/home/vvelan/.ssh/id_rsa_no_pass',\n",
    "    'log_file': '/data/pytesdaq/pytesdaq/squid.log',\n",
    "    'exe_location': 'C:\\\\Users\\\\McKinseyLeidenFridge\\\\GitRepos\\\\pytesdaq\\\\pytesdaq\\\\instruments\\\\magnicon\\\\dll'}\n",
    "\n",
    "m = magnicon.Magnicon(channel_list=[1,2,3], default_active=2, reset_active=1, conn_info=mag_conn_info, remote_inst=None)\n",
    "m.set_remote_inst()\n",
    "m.connect()\n",
    "m.chdir()\n"
   ]
  },
  {
   "cell_type": "code",
   "execution_count": null,
   "metadata": {},
   "outputs": [],
   "source": [
    "sys.version"
   ]
  },
  {
   "cell_type": "code",
   "execution_count": null,
   "metadata": {},
   "outputs": [],
   "source": []
  },
  {
   "cell_type": "code",
   "execution_count": null,
   "metadata": {
    "scrolled": true
   },
   "outputs": [],
   "source": [
    "myinstrument = instrument.Control(dummy_mode=False,verbose=True)\n",
    "\n",
    "# ------------\n",
    "# Set TES bias\n",
    "# ------------\n",
    "# using channel number \n",
    "#myinstrument.set_tes_bias(20, tes_channel=1)\n",
    "\n",
    "# using detector name_channel\n",
    "#myinstrument.set_tes_bias(20, detector_channel='G124_PAS2')\n",
    "\n",
    "# ------------\n",
    "# Get TES bias\n",
    "# ------------\n",
    "# using channel number \n",
    "bias = myinstrument.get_tes_bias(tes_channel=2)\n",
    "\n",
    "# Using detector_channel name\n",
    "#bias = myinstrument.get_tes_bias(detector_channel='G124_PBS1')\n",
    "\n",
    "# dummy mode -> all values = 1\n",
    "print(bias)"
   ]
  },
  {
   "cell_type": "code",
   "execution_count": null,
   "metadata": {},
   "outputs": [],
   "source": [
    "myinstrument.read_all(tes_channel_list=[1,2,3])"
   ]
  },
  {
   "cell_type": "code",
   "execution_count": null,
   "metadata": {},
   "outputs": [],
   "source": [
    "import pytesdaq.instruments.magnicon as magnicon\n"
   ]
  },
  {
   "cell_type": "code",
   "execution_count": null,
   "metadata": {
    "scrolled": true
   },
   "outputs": [],
   "source": [
    "magnicon.Magnicon"
   ]
  },
  {
   "cell_type": "code",
   "execution_count": null,
   "metadata": {},
   "outputs": [],
   "source": [
    "import pytesdaq.instruments.feb as feb\n",
    "dir(feb)"
   ]
  },
  {
   "cell_type": "code",
   "execution_count": null,
   "metadata": {},
   "outputs": [],
   "source": []
  }
 ],
 "metadata": {
  "kernelspec": {
   "display_name": "Python 3",
   "language": "python",
   "name": "python3"
  },
  "language_info": {
   "codemirror_mode": {
    "name": "ipython",
    "version": 3
   },
   "file_extension": ".py",
   "mimetype": "text/x-python",
   "name": "python",
   "nbconvert_exporter": "python",
   "pygments_lexer": "ipython3",
   "version": "3.7.4"
  }
 },
 "nbformat": 4,
 "nbformat_minor": 4
}
